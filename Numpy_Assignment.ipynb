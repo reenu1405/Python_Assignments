{
 "cells": [
  {
   "cell_type": "code",
   "execution_count": 1,
   "id": "95764cde",
   "metadata": {},
   "outputs": [],
   "source": [
    "# Numpy assignment\n",
    "import numpy as np"
   ]
  },
  {
   "cell_type": "code",
   "execution_count": 25,
   "id": "f8f66bbd",
   "metadata": {},
   "outputs": [],
   "source": [
    "# Random array\n",
    "# max value\n",
    "# min valye\n",
    "# mean row or column\n",
    "# reshape\n",
    "# multiply\n",
    "# odd numbers\n",
    "# identity\n",
    "# mean and standard deviation\n",
    "# multiplication between two arrays\n",
    "# Replace all odd numbers with -1\n",
    "# indices of the maximum and minimum values.\n"
   ]
  },
  {
   "cell_type": "code",
   "execution_count": 2,
   "id": "9d2b9783",
   "metadata": {},
   "outputs": [
    {
     "data": {
      "text/plain": [
       "array([[ 1,  2,  3,  9],\n",
       "       [ 4,  5,  6,  8],\n",
       "       [ 7, 10,  6,  8]])"
      ]
     },
     "execution_count": 2,
     "metadata": {},
     "output_type": "execute_result"
    }
   ],
   "source": [
    "# 1- Create a numpy array of shape (3, 4) and assign random integers between 1 and 10 to every element.\n",
    "#\n",
    "a = [[1,2,3,9],[4,5,6,8], [7,10,6,8]]\n",
    "a_np = np.array(a)\n",
    "a_np"
   ]
  },
  {
   "cell_type": "code",
   "execution_count": 3,
   "id": "d228b5f5",
   "metadata": {},
   "outputs": [
    {
     "data": {
      "text/plain": [
       "array([[10,  9,  1, 10],\n",
       "       [ 4,  9,  8,  8],\n",
       "       [ 8,  8,  8,  1]])"
      ]
     },
     "execution_count": 3,
     "metadata": {},
     "output_type": "execute_result"
    }
   ],
   "source": [
    "# https://numpy.org/doc/stable/reference/random/generated/numpy.random.rand.html\n",
    "arr = np.random.randint(1,11, size=(3,4))\n",
    "arr"
   ]
  },
  {
   "cell_type": "code",
   "execution_count": 4,
   "id": "eceaafe0",
   "metadata": {},
   "outputs": [
    {
     "data": {
      "text/plain": [
       "(3, 4)"
      ]
     },
     "execution_count": 4,
     "metadata": {},
     "output_type": "execute_result"
    }
   ],
   "source": [
    "a_np.shape"
   ]
  },
  {
   "cell_type": "code",
   "execution_count": 5,
   "id": "feb58178",
   "metadata": {},
   "outputs": [
    {
     "data": {
      "text/plain": [
       "10"
      ]
     },
     "execution_count": 5,
     "metadata": {},
     "output_type": "execute_result"
    }
   ],
   "source": [
    "# 2- Find the maximum value in the array created in step 1.\n",
    "#\n",
    "np.max(a_np)"
   ]
  },
  {
   "cell_type": "code",
   "execution_count": 6,
   "id": "7b2f22fe",
   "metadata": {},
   "outputs": [
    {
     "data": {
      "text/plain": [
       "array([4.  , 5.67, 5.  , 8.33])"
      ]
     },
     "execution_count": 6,
     "metadata": {},
     "output_type": "execute_result"
    }
   ],
   "source": [
    "# 3-a Calculate the mean value of each column in the array.\n",
    "\n",
    "\n",
    "a = a_np.mean(axis = 0) # column\n",
    "rounded_array = np.round(a , decimals=2)\n",
    "rounded_array"
   ]
  },
  {
   "cell_type": "code",
   "execution_count": 7,
   "id": "7686a499",
   "metadata": {},
   "outputs": [
    {
     "data": {
      "text/plain": [
       "array([3.75, 5.75, 7.75])"
      ]
     },
     "execution_count": 7,
     "metadata": {},
     "output_type": "execute_result"
    }
   ],
   "source": [
    "# 3-b Calculate the mean value of each row in the array.\n",
    "np.mean(a_np , axis = 1) # row"
   ]
  },
  {
   "cell_type": "code",
   "execution_count": 8,
   "id": "5dbc3947",
   "metadata": {},
   "outputs": [
    {
     "data": {
      "text/plain": [
       "array([[ 1,  2,  3,  9,  4,  5],\n",
       "       [ 6,  8,  7, 10,  6,  8]])"
      ]
     },
     "execution_count": 8,
     "metadata": {},
     "output_type": "execute_result"
    }
   ],
   "source": [
    "# 4- Reshape the array from step 1 into a shape of (2, 6).\n",
    "np.reshape(a_np,(2,6))"
   ]
  },
  {
   "cell_type": "code",
   "execution_count": 9,
   "id": "839c4afb",
   "metadata": {},
   "outputs": [
    {
     "data": {
      "text/plain": [
       "array([[ 2,  4,  6, 18],\n",
       "       [ 8, 10, 12, 16],\n",
       "       [14, 20, 12, 16]])"
      ]
     },
     "execution_count": 9,
     "metadata": {},
     "output_type": "execute_result"
    }
   ],
   "source": [
    "\n",
    "# 5- Multiply each element in the array by 2.\n",
    "a_np*2\n"
   ]
  },
  {
   "cell_type": "code",
   "execution_count": 10,
   "id": "c52aabe7",
   "metadata": {},
   "outputs": [
    {
     "name": "stdout",
     "output_type": "stream",
     "text": [
      "[1 3 5 7 9]\n"
     ]
    }
   ],
   "source": [
    "# 6- Create a numpy array with values ranging from 0 to 9. Extract the odd numbers from the array.\n",
    "z1 = [[1, 2, 3],[4, 5, 6],[7, 8, 9]]\n",
    "arr_z = np.array(z1)\n",
    "odd_num = arr_z[arr_z%2 != 0]\n",
    "print(odd_num)"
   ]
  },
  {
   "cell_type": "code",
   "execution_count": 11,
   "id": "b233a3f3",
   "metadata": {},
   "outputs": [
    {
     "data": {
      "text/plain": [
       "array([[1, 0, 0],\n",
       "       [0, 1, 0],\n",
       "       [0, 0, 1]])"
      ]
     },
     "execution_count": 11,
     "metadata": {},
     "output_type": "execute_result"
    }
   ],
   "source": [
    "# 7- Create a 3x3 identity matrix using numpy.\n",
    "a= np.identity(3,dtype='int32')\n",
    "a"
   ]
  },
  {
   "cell_type": "code",
   "execution_count": 12,
   "id": "8d7f1f69",
   "metadata": {},
   "outputs": [
    {
     "data": {
      "text/plain": [
       "array([[0.34758273, 0.38200875, 0.41590441, 0.66639986, 0.40309817],\n",
       "       [0.44814336, 0.84812593, 0.17436928, 0.04839129, 0.90844623],\n",
       "       [0.11654039, 0.82539142, 0.81710944, 0.68155576, 0.62709834],\n",
       "       [0.67860427, 0.18608174, 0.03558394, 0.07775134, 0.70364441],\n",
       "       [0.51930056, 0.36898214, 0.85159274, 0.44063002, 0.99821236]])"
      ]
     },
     "execution_count": 12,
     "metadata": {},
     "output_type": "execute_result"
    }
   ],
   "source": [
    "# 8- Create a 5x5 array with random values and normalize it \n",
    "# (subtract the mean and divide by the standard deviation of the array).\n",
    "random_array = np.random.rand(5,5)\n",
    "random_array"
   ]
  },
  {
   "cell_type": "code",
   "execution_count": 13,
   "id": "a8208fa0",
   "metadata": {},
   "outputs": [
    {
     "data": {
      "text/plain": [
       "0.5028219553416917"
      ]
     },
     "execution_count": 13,
     "metadata": {},
     "output_type": "execute_result"
    }
   ],
   "source": [
    "mean = np.mean(random_array)\n",
    "mean"
   ]
  },
  {
   "cell_type": "code",
   "execution_count": 14,
   "id": "45358032",
   "metadata": {},
   "outputs": [
    {
     "data": {
      "text/plain": [
       "0.28587989405431075"
      ]
     },
     "execution_count": 14,
     "metadata": {},
     "output_type": "execute_result"
    }
   ],
   "source": [
    "std = np.std(random_array)\n",
    "std"
   ]
  },
  {
   "cell_type": "code",
   "execution_count": 15,
   "id": "ab0c5e7e",
   "metadata": {},
   "outputs": [
    {
     "name": "stdout",
     "output_type": "stream",
     "text": [
      "[[-0.54302254 -0.42260126 -0.3040352   0.57219102 -0.34883105]\n",
      " [-0.19126422  1.20786381 -1.14891841 -1.58958597  1.41886256]\n",
      " [-1.35120228  1.12833911  1.09936895  0.62520591  0.43471536]\n",
      " [ 0.6148817  -1.10794856 -1.63438571 -1.48688529  0.70247143]\n",
      " [ 0.05764171 -0.46816799  1.21999059 -0.21754567  1.73286201]]\n"
     ]
    }
   ],
   "source": [
    "# Normalize the array\n",
    "normalized_arr = (random_array - mean) / std\n",
    "\n",
    "print(normalized_arr)\n"
   ]
  },
  {
   "cell_type": "code",
   "execution_count": 16,
   "id": "0f46d6ff",
   "metadata": {},
   "outputs": [
    {
     "data": {
      "text/plain": [
       "array([[ 1,  2,  3,  4],\n",
       "       [ 4,  5,  6,  7],\n",
       "       [10,  7,  8,  9]])"
      ]
     },
     "execution_count": 16,
     "metadata": {},
     "output_type": "execute_result"
    }
   ],
   "source": [
    "# 9- Perform element-wise multiplication between two arrays of the same shape.\n",
    "a = [[1,2,3,4],[4,5,6,7],[10,7,8,9]]\n",
    "a_array1 = np.array(a)\n",
    "a_array1"
   ]
  },
  {
   "cell_type": "code",
   "execution_count": 17,
   "id": "7f6a28c4",
   "metadata": {},
   "outputs": [
    {
     "data": {
      "text/plain": [
       "array([[ 2,  3,  2,  4],\n",
       "       [ 2,  4,  2,  1],\n",
       "       [10,  2,  3,  2]])"
      ]
     },
     "execution_count": 17,
     "metadata": {},
     "output_type": "execute_result"
    }
   ],
   "source": [
    "b = [[2,3,2,4],[2,4,2,1],[10,2,3,2]]\n",
    "a_array2 = np.array(b)\n",
    "a_array2"
   ]
  },
  {
   "cell_type": "code",
   "execution_count": 18,
   "id": "178b3e9e",
   "metadata": {},
   "outputs": [
    {
     "data": {
      "text/plain": [
       "array([[  2,   6,   6,  16],\n",
       "       [  8,  20,  12,   7],\n",
       "       [100,  14,  24,  18]])"
      ]
     },
     "execution_count": 18,
     "metadata": {},
     "output_type": "execute_result"
    }
   ],
   "source": [
    "a_array3 = a_array1*a_array2\n",
    "a_array3"
   ]
  },
  {
   "cell_type": "code",
   "execution_count": 19,
   "id": "e4da928c",
   "metadata": {
    "scrolled": false
   },
   "outputs": [
    {
     "data": {
      "text/plain": [
       "array([[ 0.78740157,  2.36220472,  2.36220472,  6.2992126 ],\n",
       "       [ 3.1496063 ,  7.87401575,  4.72440945,  2.75590551],\n",
       "       [39.37007874,  5.51181102,  9.4488189 ,  7.08661417]])"
      ]
     },
     "execution_count": 19,
     "metadata": {},
     "output_type": "execute_result"
    }
   ],
   "source": [
    "# 10 - Given an array of heights in centimeters, convert them to inches (1 inch = 2.54 cm).\n",
    "a_array3/2.54"
   ]
  },
  {
   "cell_type": "code",
   "execution_count": 20,
   "id": "d194c0fd",
   "metadata": {},
   "outputs": [
    {
     "name": "stdout",
     "output_type": "stream",
     "text": [
      "[ 0 -1  2 -1  4 -1  6 -1  8 -1]\n"
     ]
    }
   ],
   "source": [
    "# 11 - Create a 1D array of numbers from 0 to 9. Replace all odd numbers with -1.\n",
    "\n",
    "import numpy as np\n",
    "\n",
    "# Create a 1D array of numbers from 0 to 9\n",
    "arr = np.arange(10)\n",
    "\n",
    "# Replace odd numbers with -1\n",
    "arr[arr % 2 != 0] = -1\n",
    "\n",
    "print(arr)"
   ]
  },
  {
   "cell_type": "code",
   "execution_count": 21,
   "id": "eee8124b",
   "metadata": {},
   "outputs": [
    {
     "data": {
      "text/plain": [
       "array([[ 1.05638431,  1.09449841, -0.02917503, -0.0823883 ],\n",
       "       [-0.60959336,  1.41011003,  0.45373827,  1.20859757],\n",
       "       [-0.00401922, -0.28480499, -0.86045229, -1.72013865]])"
      ]
     },
     "execution_count": 21,
     "metadata": {},
     "output_type": "execute_result"
    }
   ],
   "source": [
    "# 12 - Create a 2D array with random values and find the indices of the maximum and minimum values.\n",
    "arr = np.random.randn(3,4)\n",
    "arr"
   ]
  },
  {
   "cell_type": "code",
   "execution_count": 22,
   "id": "418da049",
   "metadata": {},
   "outputs": [],
   "source": [
    "max_index = np.unravel_index(np.argmax(arr), arr.shape)\n"
   ]
  },
  {
   "cell_type": "code",
   "execution_count": 23,
   "id": "3b971b0e",
   "metadata": {},
   "outputs": [],
   "source": [
    "min_index = np.unravel_index(np.argmin(arr), arr.shape)"
   ]
  },
  {
   "cell_type": "code",
   "execution_count": 24,
   "id": "83558474",
   "metadata": {},
   "outputs": [
    {
     "name": "stdout",
     "output_type": "stream",
     "text": [
      "Array:\n",
      "[[ 1.05638431  1.09449841 -0.02917503 -0.0823883 ]\n",
      " [-0.60959336  1.41011003  0.45373827  1.20859757]\n",
      " [-0.00401922 -0.28480499 -0.86045229 -1.72013865]]\n",
      "Maximum value index: (1, 1)\n",
      "Minimum value index: (2, 3)\n"
     ]
    }
   ],
   "source": [
    "\n",
    "print(\"Array:\")\n",
    "print(arr)\n",
    "print(\"Maximum value index:\", max_index)\n",
    "print(\"Minimum value index:\", min_index)"
   ]
  },
  {
   "cell_type": "code",
   "execution_count": null,
   "id": "5d61adba",
   "metadata": {},
   "outputs": [],
   "source": []
  },
  {
   "cell_type": "code",
   "execution_count": null,
   "id": "062ce07f",
   "metadata": {},
   "outputs": [],
   "source": []
  },
  {
   "cell_type": "code",
   "execution_count": null,
   "id": "233eceda",
   "metadata": {},
   "outputs": [],
   "source": []
  },
  {
   "cell_type": "code",
   "execution_count": null,
   "id": "1c07c5d7",
   "metadata": {},
   "outputs": [],
   "source": []
  },
  {
   "cell_type": "code",
   "execution_count": null,
   "id": "91eb983a",
   "metadata": {},
   "outputs": [],
   "source": []
  },
  {
   "cell_type": "code",
   "execution_count": null,
   "id": "dbc5a4c1",
   "metadata": {},
   "outputs": [],
   "source": []
  }
 ],
 "metadata": {
  "kernelspec": {
   "display_name": "Python (myenv)",
   "language": "python",
   "name": "myenv"
  },
  "language_info": {
   "codemirror_mode": {
    "name": "ipython",
    "version": 3
   },
   "file_extension": ".py",
   "mimetype": "text/x-python",
   "name": "python",
   "nbconvert_exporter": "python",
   "pygments_lexer": "ipython3",
   "version": "3.11.3"
  },
  "varInspector": {
   "cols": {
    "lenName": 16,
    "lenType": 16,
    "lenVar": 40
   },
   "kernels_config": {
    "python": {
     "delete_cmd_postfix": "",
     "delete_cmd_prefix": "del ",
     "library": "var_list.py",
     "varRefreshCmd": "print(var_dic_list())"
    },
    "r": {
     "delete_cmd_postfix": ") ",
     "delete_cmd_prefix": "rm(",
     "library": "var_list.r",
     "varRefreshCmd": "cat(var_dic_list()) "
    }
   },
   "types_to_exclude": [
    "module",
    "function",
    "builtin_function_or_method",
    "instance",
    "_Feature"
   ],
   "window_display": false
  }
 },
 "nbformat": 4,
 "nbformat_minor": 5
}
